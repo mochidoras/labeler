{
 "cells": [
  {
   "cell_type": "markdown",
   "metadata": {},
   "source": [
    "#Usage<br/>\n",
    "z:thinner\n",
    "x:thicker\n",
    "c:reset\n",
    "s:save"
   ]
  },
  {
   "cell_type": "code",
   "execution_count": null,
   "metadata": {
    "collapsed": false
   },
   "outputs": [],
   "source": [
    "import numpy as np\n",
    "import cv2\n",
    "import glob\n",
    "\n",
    "drawing = False\n",
    "mode = True\n",
    "ix,iy = -1,-1\n",
    "pensize=5\n",
    "scale=2\n",
    "\n",
    "\n",
    "filepath=\"img/6-*.png\"\n",
    "\n",
    "def draw_circle(event,x,y,flags,param):\n",
    "    global ix,iy,drawing,pensize\n",
    "    if event == cv2.EVENT_LBUTTONDOWN:\n",
    "        drawing = True\n",
    "        ix,iy = x,y\n",
    "\n",
    "    elif event == cv2.EVENT_MOUSEMOVE:\n",
    "        if drawing == True:\n",
    "            cv2.circle(img,(x,y),pensize,(255),-1)\n",
    "        else:\n",
    "            pass\n",
    "    elif event == cv2.EVENT_LBUTTONUP:\n",
    "        drawing = False\n",
    "        cv2.circle(img,(x,y),pensize,(255),-1)\n",
    "        \n",
    "files = glob.glob(filepath)\n",
    "files.sort()\n",
    "for f, filename in enumerate(files):\n",
    "    \n",
    "    img = cv2.imread(filename,cv2.IMREAD_GRAYSCALE)\n",
    "    img = cv2.resize(img,(img.shape[1]*scale,img.shape[0]*scale),interpolation=cv2.cv.CV_INTER_NN)\n",
    "    cv2.namedWindow('image')\n",
    "    cv2.setMouseCallback('image',draw_circle)\n",
    "\n",
    "    while(1):\n",
    "        cv2.imshow('image',img)\n",
    "        k = cv2.waitKey(1) & 0xFF\n",
    "        if   k == ord('z'):\n",
    "            pensize-=1 #ペンを細くする\n",
    "        elif k == ord('x'):\n",
    "            pensize+=1 #ペンを太くする\n",
    "        elif k == ord('s'):\n",
    "            break #保存する\n",
    "        elif k == ord('c'): #リセットする（再読み込み）\n",
    "            img = cv2.imread(filename,cv2.IMREAD_GRAYSCALE)\n",
    "            img = cv2.resize(img,(img.shape[1]*scale,img.shape[0]*scale))\n",
    "            \n",
    "    img = cv2.resize(img,(img.shape[1]/scale,img.shape[0]/scale),interpolation=cv2.cv.CV_INTER_NN)\n",
    "    cv2.imwrite(filename,img)\n",
    "cv2.destroyAllWindows()"
   ]
  },
  {
   "cell_type": "code",
   "execution_count": null,
   "metadata": {
    "collapsed": true
   },
   "outputs": [],
   "source": []
  },
  {
   "cell_type": "code",
   "execution_count": null,
   "metadata": {
    "collapsed": true
   },
   "outputs": [],
   "source": []
  }
 ],
 "metadata": {
  "kernelspec": {
   "display_name": "Python [python2]",
   "language": "python",
   "name": "Python [python2]"
  },
  "language_info": {
   "codemirror_mode": {
    "name": "ipython",
    "version": 2
   },
   "file_extension": ".py",
   "mimetype": "text/x-python",
   "name": "python",
   "nbconvert_exporter": "python",
   "pygments_lexer": "ipython2",
   "version": "2.7.12"
  }
 },
 "nbformat": 4,
 "nbformat_minor": 0
}
